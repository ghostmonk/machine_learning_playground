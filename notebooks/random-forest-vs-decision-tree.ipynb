{
 "cells": [
  {
   "cell_type": "markdown",
   "id": "0",
   "metadata": {},
   "source": [
    "### First we will import the class used to contain the training logic"
   ]
  },
  {
   "cell_type": "code",
   "execution_count": null,
   "id": "1",
   "metadata": {},
   "outputs": [],
   "source": [
    "from models.DecisionTreeTrainingModel import DecisionTreeTrainingModel\n",
    "from models.RandomForestTrainingModel import RandomForestTrainingModel"
   ]
  },
  {
   "cell_type": "markdown",
   "id": "2",
   "metadata": {},
   "source": [
    "### Next we will create an instance of the class and pass in our training data"
   ]
  },
  {
   "cell_type": "code",
   "execution_count": null,
   "id": "3",
   "metadata": {},
   "outputs": [],
   "source": [
    "dt_training_data = DecisionTreeTrainingModel(file_path='../data/iowa-train.csv')\n",
    "rf_training_data = RandomForestTrainingModel(file_path='../data/iowa-train.csv')"
   ]
  },
  {
   "cell_type": "markdown",
   "id": "4",
   "metadata": {},
   "source": [
    "### Here we are defining the columns we will use to predict our target"
   ]
  },
  {
   "cell_type": "code",
   "execution_count": null,
   "id": "5",
   "metadata": {},
   "outputs": [],
   "source": [
    "feature_columns = ['LotArea', 'YearBuilt', '1stFlrSF', '2ndFlrSF', 'FullBath', 'BedroomAbvGr', 'TotRmsAbvGrd']"
   ]
  },
  {
   "cell_type": "markdown",
   "id": "6",
   "metadata": {},
   "source": [
    "### Now we pass the feature columns and the target of our prediction to our training model"
   ]
  },
  {
   "cell_type": "code",
   "execution_count": null,
   "id": "7",
   "metadata": {},
   "outputs": [],
   "source": [
    "dt_training_data.set_up_training(prediction_target='SalePrice', feature_columns=feature_columns)\n",
    "rf_training_data.set_up_training(prediction_target='SalePrice', feature_columns=feature_columns)"
   ]
  },
  {
   "cell_type": "markdown",
   "id": "8",
   "metadata": {},
   "source": [
    "### We use the find_best_leaf_num method to find the most effective number of leaf nodes"
   ]
  },
  {
   "cell_type": "code",
   "execution_count": null,
   "id": "9",
   "metadata": {},
   "outputs": [],
   "source": [
    "dt_best_leaf_num = dt_training_data.find_best_leaf_num()\n",
    "rf_best_leaf_num = rf_training_data.find_best_leaf_num()"
   ]
  },
  {
   "cell_type": "markdown",
   "id": "10",
   "metadata": {},
   "source": [
    "### Once we know the most effective leaf number, we can use it to get the mean error"
   ]
  },
  {
   "cell_type": "code",
   "execution_count": null,
   "id": "11",
   "metadata": {},
   "outputs": [],
   "source": [
    "dt_mae = dt_training_data.get_mean_error(max_leaf_nodes=dt_best_leaf_num)\n",
    "rf_mae = rf_training_data.get_mean_error(max_leaf_nodes=rf_best_leaf_num)"
   ]
  },
  {
   "cell_type": "markdown",
   "id": "12",
   "metadata": {},
   "source": [
    "### Just print it all out"
   ]
  },
  {
   "cell_type": "code",
   "execution_count": null,
   "id": "13",
   "metadata": {},
   "outputs": [],
   "source": [
    "print(f\"A mean error of {dt_mae} was found with {dt_best_leaf_num} leaf nodes using Decision Tree\")\n",
    "print(f\"A mean error of {rf_mae} was found with {rf_best_leaf_num} leaf nodes using Random Tree\")"
   ]
  }
 ],
 "metadata": {
  "kernelspec": {
   "display_name": "Python 3",
   "language": "python",
   "name": "python3"
  },
  "language_info": {
   "codemirror_mode": {
    "name": "ipython",
    "version": 2
   },
   "file_extension": ".py",
   "mimetype": "text/x-python",
   "name": "python",
   "nbconvert_exporter": "python",
   "pygments_lexer": "ipython2",
   "version": "2.7.6"
  }
 },
 "nbformat": 4,
 "nbformat_minor": 5
}
