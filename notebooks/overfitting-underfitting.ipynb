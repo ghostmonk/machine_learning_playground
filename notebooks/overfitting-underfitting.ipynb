{
 "cells": [
  {
   "cell_type": "markdown",
   "source": [
    "### First we will import the class used to contain the training logic"
   ],
   "metadata": {
    "collapsed": false
   },
   "id": "38d88671412a620d"
  },
  {
   "cell_type": "code",
   "outputs": [],
   "source": [
    "from models.DecisionTreeTrainingModel import DecisionTreeTrainingModel"
   ],
   "metadata": {
    "collapsed": true,
    "ExecuteTime": {
     "end_time": "2024-03-13T21:55:11.918912Z",
     "start_time": "2024-03-13T21:55:11.904457Z"
    }
   },
   "id": "initial_id",
   "execution_count": 3
  },
  {
   "cell_type": "markdown",
   "source": [
    "### Next we will create an instance of the class and pass in our training data"
   ],
   "metadata": {
    "collapsed": false
   },
   "id": "453a30ff6d6eee19"
  },
  {
   "cell_type": "code",
   "outputs": [],
   "source": [
    "training_data = DecisionTreeTrainingModel(file_path='../data/iowa-train.csv')"
   ],
   "metadata": {
    "collapsed": false,
    "ExecuteTime": {
     "end_time": "2024-03-13T21:55:13.587116Z",
     "start_time": "2024-03-13T21:55:13.566136Z"
    }
   },
   "id": "363596bbe449f454",
   "execution_count": 4
  },
  {
   "cell_type": "markdown",
   "source": [
    "### Here we are defining the columns we will use to predict our target"
   ],
   "metadata": {
    "collapsed": false
   },
   "id": "e6fe195a51cf117d"
  },
  {
   "cell_type": "code",
   "outputs": [],
   "source": [
    "feature_columns = ['LotArea', 'YearBuilt', '1stFlrSF', '2ndFlrSF', 'FullBath', 'BedroomAbvGr', 'TotRmsAbvGrd']"
   ],
   "metadata": {
    "collapsed": false,
    "ExecuteTime": {
     "end_time": "2024-03-13T21:55:14.307421Z",
     "start_time": "2024-03-13T21:55:14.305336Z"
    }
   },
   "id": "a6754c462a59821a",
   "execution_count": 5
  },
  {
   "cell_type": "markdown",
   "source": [
    "### Now we pass the feature columns and the target of our prediction to our training model"
   ],
   "metadata": {
    "collapsed": false
   },
   "id": "634e8d6b25ed91e7"
  },
  {
   "cell_type": "code",
   "outputs": [],
   "source": [
    "training_data.set_up_training(prediction_target='SalePrice', feature_columns=feature_columns)"
   ],
   "metadata": {
    "collapsed": false,
    "ExecuteTime": {
     "end_time": "2024-03-13T21:55:14.986226Z",
     "start_time": "2024-03-13T21:55:14.977547Z"
    }
   },
   "id": "1fe8212ddd7aa567",
   "execution_count": 6
  },
  {
   "cell_type": "markdown",
   "source": [
    "### We use the find_best_leaf_num method to find the most effective number of leaf nodes"
   ],
   "metadata": {
    "collapsed": false
   },
   "id": "f92a22367cd59eb4"
  },
  {
   "cell_type": "code",
   "outputs": [],
   "source": [
    "best_leaf_num = training_data.find_best_leaf_num()"
   ],
   "metadata": {
    "collapsed": false,
    "ExecuteTime": {
     "end_time": "2024-03-13T21:55:15.968200Z",
     "start_time": "2024-03-13T21:55:15.582781Z"
    }
   },
   "id": "b1366388d1a9f508",
   "execution_count": 7
  },
  {
   "cell_type": "markdown",
   "source": [
    "### Once we know the most effective leaf number, we can use it to get the mean error"
   ],
   "metadata": {
    "collapsed": false
   },
   "id": "4f10c0591cd229cf"
  },
  {
   "cell_type": "code",
   "outputs": [],
   "source": [
    "mae = training_data.get_mean_error(max_leaf_nodes=best_leaf_num)"
   ],
   "metadata": {
    "collapsed": false,
    "ExecuteTime": {
     "end_time": "2024-03-13T21:55:16.734214Z",
     "start_time": "2024-03-13T21:55:16.727800Z"
    }
   },
   "id": "1c9e4e77e865fad",
   "execution_count": 8
  },
  {
   "cell_type": "markdown",
   "source": [
    "### Just print it all out"
   ],
   "metadata": {
    "collapsed": false
   },
   "id": "efec121e273dfc97"
  },
  {
   "cell_type": "code",
   "outputs": [
    {
     "name": "stdout",
     "output_type": "stream",
     "text": [
      "A mean error of 26763.340028993345 was found with 70 leaf nodes\n"
     ]
    }
   ],
   "source": [
    "print(f\"A mean error of {mae} was found with {best_leaf_num} leaf nodes\")"
   ],
   "metadata": {
    "collapsed": false,
    "ExecuteTime": {
     "end_time": "2024-03-13T21:55:18.376044Z",
     "start_time": "2024-03-13T21:55:18.373379Z"
    }
   },
   "id": "834983672115110a",
   "execution_count": 9
  },
  {
   "cell_type": "markdown",
   "source": [],
   "metadata": {
    "collapsed": false
   },
   "id": "7202dfc4d81c5fae"
  }
 ],
 "metadata": {
  "kernelspec": {
   "display_name": "Python 3",
   "language": "python",
   "name": "python3"
  },
  "language_info": {
   "codemirror_mode": {
    "name": "ipython",
    "version": 2
   },
   "file_extension": ".py",
   "mimetype": "text/x-python",
   "name": "python",
   "nbconvert_exporter": "python",
   "pygments_lexer": "ipython2",
   "version": "2.7.6"
  }
 },
 "nbformat": 4,
 "nbformat_minor": 5
}
